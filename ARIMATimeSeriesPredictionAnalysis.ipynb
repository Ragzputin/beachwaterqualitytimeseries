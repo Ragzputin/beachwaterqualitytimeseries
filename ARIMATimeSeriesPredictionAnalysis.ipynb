{
 "cells": [
  {
   "cell_type": "code",
   "execution_count": 1,
   "metadata": {},
   "outputs": [],
   "source": [
    "import xml.etree.cElementTree as et\n",
    "import pandas as pd\n",
    "import numpy as np\n",
    "import requests\n",
    "\n",
    "from statsmodels.tsa.seasonal import seasonal_decompose\n",
    "from statsmodels.tsa.arima_model import ARIMA\n",
    "from statsmodels.graphics import tsaplots\n",
    "\n",
    "from scipy.stats import norm\n",
    "\n",
    "from pandas.plotting import autocorrelation_plot\n",
    "from statsmodels.graphics.tsaplots import plot_acf, plot_pacf\n",
    "from sklearn.metrics import mean_squared_error\n",
    "\n",
    "import seaborn as sns\n",
    "import matplotlib.pyplot as plt\n",
    "%matplotlib inline\n",
    "\n",
    "from IPython.core.debugger import set_trace\n",
    "#from statsmodels.stats.proportion import proportion_ztest"
   ]
  },
  {
   "cell_type": "markdown",
   "metadata": {},
   "source": [
    "# Step 1: Acquire Data From CSV File"
   ]
  },
  {
   "cell_type": "code",
   "execution_count": 2,
   "metadata": {},
   "outputs": [],
   "source": [
    "beach_complete = pd.read_csv('beach_complete.csv',delimiter=',',header=0,index_col=0)"
   ]
  },
  {
   "cell_type": "code",
   "execution_count": 3,
   "metadata": {},
   "outputs": [
    {
     "data": {
      "text/html": [
       "<div>\n",
       "<style scoped>\n",
       "    .dataframe tbody tr th:only-of-type {\n",
       "        vertical-align: middle;\n",
       "    }\n",
       "\n",
       "    .dataframe tbody tr th {\n",
       "        vertical-align: top;\n",
       "    }\n",
       "\n",
       "    .dataframe thead th {\n",
       "        text-align: right;\n",
       "    }\n",
       "</style>\n",
       "<table border=\"1\" class=\"dataframe\">\n",
       "  <thead>\n",
       "    <tr style=\"text-align: right;\">\n",
       "      <th></th>\n",
       "      <th>MCurtis-1</th>\n",
       "      <th>Bluffers-10</th>\n",
       "      <th>Rouge-11</th>\n",
       "      <th>Sunnyside-2</th>\n",
       "      <th>Hanlans-3</th>\n",
       "      <th>Gibraltar-4</th>\n",
       "      <th>Centre-5</th>\n",
       "      <th>Wards-6</th>\n",
       "      <th>Cherry-7</th>\n",
       "      <th>Woodbine-8</th>\n",
       "      <th>KewBalmy-9</th>\n",
       "    </tr>\n",
       "    <tr>\n",
       "      <th>sampleDate</th>\n",
       "      <th></th>\n",
       "      <th></th>\n",
       "      <th></th>\n",
       "      <th></th>\n",
       "      <th></th>\n",
       "      <th></th>\n",
       "      <th></th>\n",
       "      <th></th>\n",
       "      <th></th>\n",
       "      <th></th>\n",
       "      <th></th>\n",
       "    </tr>\n",
       "  </thead>\n",
       "  <tbody>\n",
       "    <tr>\n",
       "      <th>2009-06-01</th>\n",
       "      <td>27.0</td>\n",
       "      <td>12.0</td>\n",
       "      <td>39.0</td>\n",
       "      <td>28.0</td>\n",
       "      <td>11.0</td>\n",
       "      <td>18.0</td>\n",
       "      <td>24.0</td>\n",
       "      <td>63.0</td>\n",
       "      <td>51.0</td>\n",
       "      <td>10.0</td>\n",
       "      <td>10.0</td>\n",
       "    </tr>\n",
       "    <tr>\n",
       "      <th>2009-06-02</th>\n",
       "      <td>10.0</td>\n",
       "      <td>14.0</td>\n",
       "      <td>52.0</td>\n",
       "      <td>16.0</td>\n",
       "      <td>10.0</td>\n",
       "      <td>18.0</td>\n",
       "      <td>22.0</td>\n",
       "      <td>18.0</td>\n",
       "      <td>19.0</td>\n",
       "      <td>10.0</td>\n",
       "      <td>10.0</td>\n",
       "    </tr>\n",
       "    <tr>\n",
       "      <th>2009-06-03</th>\n",
       "      <td>22.0</td>\n",
       "      <td>11.0</td>\n",
       "      <td>14.0</td>\n",
       "      <td>10.0</td>\n",
       "      <td>10.0</td>\n",
       "      <td>11.0</td>\n",
       "      <td>14.0</td>\n",
       "      <td>10.0</td>\n",
       "      <td>10.0</td>\n",
       "      <td>10.0</td>\n",
       "      <td>10.0</td>\n",
       "    </tr>\n",
       "    <tr>\n",
       "      <th>2009-06-04</th>\n",
       "      <td>26.0</td>\n",
       "      <td>10.0</td>\n",
       "      <td>11.0</td>\n",
       "      <td>10.0</td>\n",
       "      <td>10.0</td>\n",
       "      <td>11.0</td>\n",
       "      <td>11.0</td>\n",
       "      <td>10.0</td>\n",
       "      <td>10.0</td>\n",
       "      <td>10.0</td>\n",
       "      <td>10.0</td>\n",
       "    </tr>\n",
       "    <tr>\n",
       "      <th>2009-06-05</th>\n",
       "      <td>35.0</td>\n",
       "      <td>10.0</td>\n",
       "      <td>31.0</td>\n",
       "      <td>11.0</td>\n",
       "      <td>10.0</td>\n",
       "      <td>10.0</td>\n",
       "      <td>10.0</td>\n",
       "      <td>12.0</td>\n",
       "      <td>10.0</td>\n",
       "      <td>10.0</td>\n",
       "      <td>10.0</td>\n",
       "    </tr>\n",
       "    <tr>\n",
       "      <th>2009-06-06</th>\n",
       "      <td>133.0</td>\n",
       "      <td>13.0</td>\n",
       "      <td>29.0</td>\n",
       "      <td>18.0</td>\n",
       "      <td>12.0</td>\n",
       "      <td>10.0</td>\n",
       "      <td>12.0</td>\n",
       "      <td>16.0</td>\n",
       "      <td>10.0</td>\n",
       "      <td>12.0</td>\n",
       "      <td>10.0</td>\n",
       "    </tr>\n",
       "    <tr>\n",
       "      <th>2009-06-07</th>\n",
       "      <td>604.0</td>\n",
       "      <td>16.0</td>\n",
       "      <td>20.0</td>\n",
       "      <td>97.0</td>\n",
       "      <td>37.0</td>\n",
       "      <td>28.0</td>\n",
       "      <td>41.0</td>\n",
       "      <td>47.0</td>\n",
       "      <td>10.0</td>\n",
       "      <td>12.0</td>\n",
       "      <td>11.0</td>\n",
       "    </tr>\n",
       "    <tr>\n",
       "      <th>2009-06-08</th>\n",
       "      <td>405.0</td>\n",
       "      <td>17.0</td>\n",
       "      <td>99.0</td>\n",
       "      <td>142.0</td>\n",
       "      <td>31.0</td>\n",
       "      <td>33.0</td>\n",
       "      <td>43.0</td>\n",
       "      <td>39.0</td>\n",
       "      <td>10.0</td>\n",
       "      <td>10.0</td>\n",
       "      <td>12.0</td>\n",
       "    </tr>\n",
       "    <tr>\n",
       "      <th>2009-06-09</th>\n",
       "      <td>NaN</td>\n",
       "      <td>37.0</td>\n",
       "      <td>368.0</td>\n",
       "      <td>63.0</td>\n",
       "      <td>11.0</td>\n",
       "      <td>20.0</td>\n",
       "      <td>16.0</td>\n",
       "      <td>11.0</td>\n",
       "      <td>12.0</td>\n",
       "      <td>18.0</td>\n",
       "      <td>34.0</td>\n",
       "    </tr>\n",
       "    <tr>\n",
       "      <th>2009-06-10</th>\n",
       "      <td>170.0</td>\n",
       "      <td>25.0</td>\n",
       "      <td>155.0</td>\n",
       "      <td>26.0</td>\n",
       "      <td>11.0</td>\n",
       "      <td>18.0</td>\n",
       "      <td>21.0</td>\n",
       "      <td>11.0</td>\n",
       "      <td>12.0</td>\n",
       "      <td>18.0</td>\n",
       "      <td>31.0</td>\n",
       "    </tr>\n",
       "  </tbody>\n",
       "</table>\n",
       "</div>"
      ],
      "text/plain": [
       "            MCurtis-1  Bluffers-10  Rouge-11  Sunnyside-2  Hanlans-3  \\\n",
       "sampleDate                                                             \n",
       "2009-06-01       27.0         12.0      39.0         28.0       11.0   \n",
       "2009-06-02       10.0         14.0      52.0         16.0       10.0   \n",
       "2009-06-03       22.0         11.0      14.0         10.0       10.0   \n",
       "2009-06-04       26.0         10.0      11.0         10.0       10.0   \n",
       "2009-06-05       35.0         10.0      31.0         11.0       10.0   \n",
       "2009-06-06      133.0         13.0      29.0         18.0       12.0   \n",
       "2009-06-07      604.0         16.0      20.0         97.0       37.0   \n",
       "2009-06-08      405.0         17.0      99.0        142.0       31.0   \n",
       "2009-06-09        NaN         37.0     368.0         63.0       11.0   \n",
       "2009-06-10      170.0         25.0     155.0         26.0       11.0   \n",
       "\n",
       "            Gibraltar-4  Centre-5  Wards-6  Cherry-7  Woodbine-8  KewBalmy-9  \n",
       "sampleDate                                                                    \n",
       "2009-06-01         18.0      24.0     63.0      51.0        10.0        10.0  \n",
       "2009-06-02         18.0      22.0     18.0      19.0        10.0        10.0  \n",
       "2009-06-03         11.0      14.0     10.0      10.0        10.0        10.0  \n",
       "2009-06-04         11.0      11.0     10.0      10.0        10.0        10.0  \n",
       "2009-06-05         10.0      10.0     12.0      10.0        10.0        10.0  \n",
       "2009-06-06         10.0      12.0     16.0      10.0        12.0        10.0  \n",
       "2009-06-07         28.0      41.0     47.0      10.0        12.0        11.0  \n",
       "2009-06-08         33.0      43.0     39.0      10.0        10.0        12.0  \n",
       "2009-06-09         20.0      16.0     11.0      12.0        18.0        34.0  \n",
       "2009-06-10         18.0      21.0     11.0      12.0        18.0        31.0  "
      ]
     },
     "execution_count": 3,
     "metadata": {},
     "output_type": "execute_result"
    }
   ],
   "source": [
    "beach_complete.head(10)"
   ]
  },
  {
   "cell_type": "code",
   "execution_count": 4,
   "metadata": {},
   "outputs": [],
   "source": [
    "beach_clean = beach_complete.dropna()"
   ]
  },
  {
   "cell_type": "code",
   "execution_count": 5,
   "metadata": {},
   "outputs": [],
   "source": [
    "beach_clean.apply(pd.to_numeric);"
   ]
  },
  {
   "cell_type": "code",
   "execution_count": 6,
   "metadata": {
    "scrolled": false
   },
   "outputs": [],
   "source": [
    "#fig, ax = plt.subplots(6, 2, figsize=(20,40))\n",
    "#cols = beach_clean.columns\n",
    "#for i in range(6):\n",
    "#    for j in range(2):\n",
    "#        if j == 1 and i == 5:\n",
    "#            break\n",
    "#        elif j == 0:\n",
    "#            ax[i][j].hist(np.log(beach_clean[cols[i]].values), bins=50, histtype='stepfilled')\n",
    "#            ax[i][j].set(xlabel='E.coli counts',ylabel='Frequency',title=cols[i])\n",
    "            #set_trace()\n",
    "#        else:\n",
    "#            ax[i][j].hist(np.log(beach_clean[cols[i+6]]).values, bins=50, histtype='stepfilled')\n",
    "#            ax[i][j].set(xlabel='E.coli counts',ylabel='Frequency',title=cols[i+6])"
   ]
  },
  {
   "cell_type": "code",
   "execution_count": 70,
   "metadata": {},
   "outputs": [],
   "source": [
    "sunnyside = beach_clean['Sunnyside-2']"
   ]
  },
  {
   "cell_type": "code",
   "execution_count": 71,
   "metadata": {},
   "outputs": [
    {
     "data": {
      "text/plain": [
       "668"
      ]
     },
     "execution_count": 71,
     "metadata": {},
     "output_type": "execute_result"
    }
   ],
   "source": [
    "sunnyside.size"
   ]
  },
  {
   "cell_type": "code",
   "execution_count": 72,
   "metadata": {},
   "outputs": [
    {
     "data": {
      "image/png": "[encoded data removed]",
      "text/plain": [
       "<Figure size 432x288 with 1 Axes>"
      ]
     },
     "metadata": {
      "needs_background": "light"
     },
     "output_type": "display_data"
    }
   ],
   "source": [
    "plt.hist(sunnyside, bins=30, histtype='bar', color='green', label = 'Sunnyside')\n",
    "plt.legend()\n",
    "plt.show();"
   ]
  },
  {
   "cell_type": "code",
   "execution_count": 73,
   "metadata": {},
   "outputs": [],
   "source": [
    "#Turn sunnyside into a separate dataframe with time values\n",
    "# sunnyside_frame = sunnyside.to_frame(name='value')\n",
    "# sunnyside_frame.head()"
   ]
  },
  {
   "cell_type": "code",
   "execution_count": 74,
   "metadata": {},
   "outputs": [],
   "source": [
    "#Create pivot table\n",
    "# sunnyside_pivot = sunnyside_frame.pivot_table(values='value', aggfunc='mean', \n",
    "#                                               index=sunnyside_frame.index.day, \n",
    "#                                               columns=sunnyside_frame.index.year)"
   ]
  },
  {
   "cell_type": "code",
   "execution_count": 75,
   "metadata": {},
   "outputs": [],
   "source": [
    "#sunnyside_pivot.dropna()"
   ]
  },
  {
   "cell_type": "code",
   "execution_count": 76,
   "metadata": {},
   "outputs": [
    {
     "data": {
      "image/png": "[encoded data removed]",
      "text/plain": [
       "<Figure size 432x288 with 1 Axes>"
      ]
     },
     "metadata": {
      "needs_background": "light"
     },
     "output_type": "display_data"
    }
   ],
   "source": [
    "sunnyside.plot(color='red', label = 'Sunnyside')\n",
    "plt.legend()\n",
    "plt.show();"
   ]
  },
  {
   "cell_type": "markdown",
   "metadata": {},
   "source": [
    "# Step 2: ACF and PACF plots"
   ]
  },
  {
   "cell_type": "code",
   "execution_count": 77,
   "metadata": {
    "scrolled": false
   },
   "outputs": [],
   "source": [
    "#def plot_acf_pacf(list_tuples):\n",
    "#    fig, ax = plt.subplots(11, 2, figsize=(20,40))\n",
    "#    for i in range(len(list_tuples)):\n",
    "#        for j in range(len(list_tuples[i])-1):\n",
    "#            str_title_acf = \"Autocorrelation \" + list_tuples[i][1]\n",
    "#            str_title_pacf = \"Partial Autocorrelation  \" + list_tuples[i][1]\n",
    "#            plot_acf(list_tuples[i][0], lags=50, title=str_title_acf, ax=ax[i][j])\n",
    "#            plot_pacf(list_tuples[i][0], lags=50, title=str_title_pacf, ax=ax[i][j+1])\n",
    "    \n",
    "#    plt.show();\n",
    "\n",
    "#plot_acf_pacf(list_tuples)"
   ]
  },
  {
   "cell_type": "code",
   "execution_count": 78,
   "metadata": {},
   "outputs": [
    {
     "data": {
      "image/png": "[encoded data removed]",
      "text/plain": [
       "<Figure size 1080x288 with 2 Axes>"
      ]
     },
     "metadata": {
      "needs_background": "light"
     },
     "output_type": "display_data"
    }
   ],
   "source": [
    "fig, ax = plt.subplots(1, 2, sharey=True, figsize=(15,4))\n",
    "plot_acf(sunnyside, lags=50, title='Sunnyside ACF', ax=ax[0])\n",
    "plot_pacf(sunnyside, lags=50, title='Sunnyside PACF', ax=ax[1])\n",
    "plt.show();"
   ]
  },
  {
   "cell_type": "markdown",
   "metadata": {},
   "source": [
    "For all 11 beaches, it seems that with a lag=6 there will be very little partial correlation. So we assume lag=6 for both our AR and MA parameters for now."
   ]
  },
  {
   "cell_type": "markdown",
   "metadata": {},
   "source": [
    "# Step 5: Train and Test ARIMA model "
   ]
  },
  {
   "cell_type": "code",
   "execution_count": 13,
   "metadata": {},
   "outputs": [],
   "source": [
    "train_size = int(0.7 * sunnyside.size)\n",
    "test_size = int(0.3 * sunnyside.size)\n",
    "train = sunnyside[:train_size]\n",
    "test = sunnyside[train_size:train_size+test_size+1]"
   ]
  },
  {
   "cell_type": "code",
   "execution_count": 14,
   "metadata": {},
   "outputs": [
    {
     "data": {
      "text/plain": [
       "sampleDate\n",
       "2009-06-01    28.0\n",
       "2009-06-02    16.0\n",
       "2009-06-03    10.0\n",
       "2009-06-04    10.0\n",
       "2009-06-05    11.0\n",
       "Name: Sunnyside-2, dtype: float64"
      ]
     },
     "execution_count": 14,
     "metadata": {},
     "output_type": "execute_result"
    }
   ],
   "source": [
    "train.head()"
   ]
  },
  {
   "cell_type": "code",
   "execution_count": 15,
   "metadata": {},
   "outputs": [
    {
     "data": {
      "text/plain": [
       "sampleDate\n",
       "2016-06-10    11.0\n",
       "2016-06-11    13.0\n",
       "2016-06-12    34.0\n",
       "2016-06-13    29.0\n",
       "2016-06-14    12.0\n",
       "Name: Sunnyside-2, dtype: float64"
      ]
     },
     "execution_count": 15,
     "metadata": {},
     "output_type": "execute_result"
    }
   ],
   "source": [
    "test.head()"
   ]
  },
  {
   "cell_type": "code",
   "execution_count": 16,
   "metadata": {},
   "outputs": [
    {
     "data": {
      "text/plain": [
       "467"
      ]
     },
     "execution_count": 16,
     "metadata": {},
     "output_type": "execute_result"
    }
   ],
   "source": [
    "train.size"
   ]
  },
  {
   "cell_type": "code",
   "execution_count": 17,
   "metadata": {},
   "outputs": [
    {
     "data": {
      "text/plain": [
       "201"
      ]
     },
     "execution_count": 17,
     "metadata": {},
     "output_type": "execute_result"
    }
   ],
   "source": [
    "test.size"
   ]
  },
  {
   "cell_type": "code",
   "execution_count": 18,
   "metadata": {},
   "outputs": [],
   "source": [
    "model = ARIMA(endog=train.values, order=(5,1,5))"
   ]
  },
  {
   "cell_type": "code",
   "execution_count": 19,
   "metadata": {},
   "outputs": [],
   "source": [
    "fit = model.fit(disp=0)"
   ]
  },
  {
   "cell_type": "code",
   "execution_count": 20,
   "metadata": {},
   "outputs": [
    {
     "data": {
      "text/html": [
       "<table class=\"simpletable\">\n",
       "<caption>ARIMA Model Results</caption>\n",
       "<tr>\n",
       "  <th>Dep. Variable:</th>        <td>D.y</td>       <th>  No. Observations:  </th>    <td>466</td>   \n",
       "</tr>\n",
       "<tr>\n",
       "  <th>Model:</th>          <td>ARIMA(5, 1, 5)</td>  <th>  Log Likelihood     </th> <td>-2747.262</td>\n",
       "</tr>\n",
       "<tr>\n",
       "  <th>Method:</th>             <td>css-mle</td>     <th>  S.D. of innovations</th>  <td>87.072</td>  \n",
       "</tr>\n",
       "<tr>\n",
       "  <th>Date:</th>          <td>Fri, 26 Apr 2019</td> <th>  AIC                </th> <td>5518.525</td> \n",
       "</tr>\n",
       "<tr>\n",
       "  <th>Time:</th>              <td>20:36:09</td>     <th>  BIC                </th> <td>5568.255</td> \n",
       "</tr>\n",
       "<tr>\n",
       "  <th>Sample:</th>                <td>1</td>        <th>  HQIC               </th> <td>5538.097</td> \n",
       "</tr>\n",
       "<tr>\n",
       "  <th></th>                       <td> </td>        <th>                     </th>     <td> </td>    \n",
       "</tr>\n",
       "</table>\n",
       "<table class=\"simpletable\">\n",
       "<tr>\n",
       "      <td></td>         <th>coef</th>     <th>std err</th>      <th>z</th>      <th>P>|z|</th>  <th>[0.025</th>    <th>0.975]</th>  \n",
       "</tr>\n",
       "<tr>\n",
       "  <th>const</th>     <td>   -0.0403</td> <td>    0.060</td> <td>   -0.669</td> <td> 0.504</td> <td>   -0.158</td> <td>    0.078</td>\n",
       "</tr>\n",
       "<tr>\n",
       "  <th>ar.L1.D.y</th> <td>    0.1698</td> <td>    0.279</td> <td>    0.608</td> <td> 0.544</td> <td>   -0.378</td> <td>    0.717</td>\n",
       "</tr>\n",
       "<tr>\n",
       "  <th>ar.L2.D.y</th> <td>   -0.0860</td> <td>    0.156</td> <td>   -0.551</td> <td> 0.582</td> <td>   -0.392</td> <td>    0.220</td>\n",
       "</tr>\n",
       "<tr>\n",
       "  <th>ar.L3.D.y</th> <td>    0.7883</td> <td>    0.097</td> <td>    8.101</td> <td> 0.000</td> <td>    0.598</td> <td>    0.979</td>\n",
       "</tr>\n",
       "<tr>\n",
       "  <th>ar.L4.D.y</th> <td>   -0.3058</td> <td>    0.231</td> <td>   -1.322</td> <td> 0.187</td> <td>   -0.759</td> <td>    0.148</td>\n",
       "</tr>\n",
       "<tr>\n",
       "  <th>ar.L5.D.y</th> <td>    0.1632</td> <td>    0.118</td> <td>    1.386</td> <td> 0.167</td> <td>   -0.068</td> <td>    0.394</td>\n",
       "</tr>\n",
       "<tr>\n",
       "  <th>ma.L1.D.y</th> <td>   -0.6199</td> <td>    0.285</td> <td>   -2.179</td> <td> 0.030</td> <td>   -1.178</td> <td>   -0.062</td>\n",
       "</tr>\n",
       "<tr>\n",
       "  <th>ma.L2.D.y</th> <td>   -0.2951</td> <td>    0.247</td> <td>   -1.194</td> <td> 0.233</td> <td>   -0.779</td> <td>    0.189</td>\n",
       "</tr>\n",
       "<tr>\n",
       "  <th>ma.L3.D.y</th> <td>   -0.9173</td> <td>    0.068</td> <td>  -13.555</td> <td> 0.000</td> <td>   -1.050</td> <td>   -0.785</td>\n",
       "</tr>\n",
       "<tr>\n",
       "  <th>ma.L4.D.y</th> <td>    0.7530</td> <td>    0.255</td> <td>    2.952</td> <td> 0.003</td> <td>    0.253</td> <td>    1.253</td>\n",
       "</tr>\n",
       "<tr>\n",
       "  <th>ma.L5.D.y</th> <td>    0.0792</td> <td>    0.275</td> <td>    0.288</td> <td> 0.773</td> <td>   -0.459</td> <td>    0.617</td>\n",
       "</tr>\n",
       "</table>\n",
       "<table class=\"simpletable\">\n",
       "<caption>Roots</caption>\n",
       "<tr>\n",
       "    <td></td>   <th>            Real</th>  <th>         Imaginary</th> <th>         Modulus</th>  <th>        Frequency</th>\n",
       "</tr>\n",
       "<tr>\n",
       "  <th>AR.1</th> <td>          -0.5805</td> <td>          -0.8513j</td> <td>           1.0304</td> <td>          -0.3453</td>\n",
       "</tr>\n",
       "<tr>\n",
       "  <th>AR.2</th> <td>          -0.5805</td> <td>          +0.8513j</td> <td>           1.0304</td> <td>           0.3453</td>\n",
       "</tr>\n",
       "<tr>\n",
       "  <th>AR.3</th> <td>           1.1215</td> <td>          -0.0000j</td> <td>           1.1215</td> <td>          -0.0000</td>\n",
       "</tr>\n",
       "<tr>\n",
       "  <th>AR.4</th> <td>           0.9567</td> <td>          -2.0571j</td> <td>           2.2687</td> <td>          -0.1807</td>\n",
       "</tr>\n",
       "<tr>\n",
       "  <th>AR.5</th> <td>           0.9567</td> <td>          +2.0571j</td> <td>           2.2687</td> <td>           0.1807</td>\n",
       "</tr>\n",
       "<tr>\n",
       "  <th>MA.1</th> <td>          -0.5620</td> <td>          -0.8274j</td> <td>           1.0002</td> <td>          -0.3450</td>\n",
       "</tr>\n",
       "<tr>\n",
       "  <th>MA.2</th> <td>          -0.5620</td> <td>          +0.8274j</td> <td>           1.0002</td> <td>           0.3450</td>\n",
       "</tr>\n",
       "<tr>\n",
       "  <th>MA.3</th> <td>           1.0000</td> <td>          -0.0000j</td> <td>           1.0000</td> <td>          -0.0000</td>\n",
       "</tr>\n",
       "<tr>\n",
       "  <th>MA.4</th> <td>           1.1933</td> <td>          -0.0000j</td> <td>           1.1933</td> <td>          -0.0000</td>\n",
       "</tr>\n",
       "<tr>\n",
       "  <th>MA.5</th> <td>         -10.5758</td> <td>          -0.0000j</td> <td>          10.5758</td> <td>          -0.5000</td>\n",
       "</tr>\n",
       "</table>"
      ],
      "text/plain": [
       "<class 'statsmodels.iolib.summary.Summary'>\n",
       "\"\"\"\n",
       "                             ARIMA Model Results                              \n",
       "==============================================================================\n",
       "Dep. Variable:                    D.y   No. Observations:                  466\n",
       "Model:                 ARIMA(5, 1, 5)   Log Likelihood               -2747.262\n",
       "Method:                       css-mle   S.D. of innovations             87.072\n",
       "Date:                Fri, 26 Apr 2019   AIC                           5518.525\n",
       "Time:                        20:36:09   BIC                           5568.255\n",
       "Sample:                             1   HQIC                          5538.097\n",
       "                                                                              \n",
       "==============================================================================\n",
       "                 coef    std err          z      P>|z|      [0.025      0.975]\n",
       "------------------------------------------------------------------------------\n",
       "const         -0.0403      0.060     -0.669      0.504      -0.158       0.078\n",
       "ar.L1.D.y      0.1698      0.279      0.608      0.544      -0.378       0.717\n",
       "ar.L2.D.y     -0.0860      0.156     -0.551      0.582      -0.392       0.220\n",
       "ar.L3.D.y      0.7883      0.097      8.101      0.000       0.598       0.979\n",
       "ar.L4.D.y     -0.3058      0.231     -1.322      0.187      -0.759       0.148\n",
       "ar.L5.D.y      0.1632      0.118      1.386      0.167      -0.068       0.394\n",
       "ma.L1.D.y     -0.6199      0.285     -2.179      0.030      -1.178      -0.062\n",
       "ma.L2.D.y     -0.2951      0.247     -1.194      0.233      -0.779       0.189\n",
       "ma.L3.D.y     -0.9173      0.068    -13.555      0.000      -1.050      -0.785\n",
       "ma.L4.D.y      0.7530      0.255      2.952      0.003       0.253       1.253\n",
       "ma.L5.D.y      0.0792      0.275      0.288      0.773      -0.459       0.617\n",
       "                                    Roots                                    \n",
       "=============================================================================\n",
       "                  Real          Imaginary           Modulus         Frequency\n",
       "-----------------------------------------------------------------------------\n",
       "AR.1           -0.5805           -0.8513j            1.0304           -0.3453\n",
       "AR.2           -0.5805           +0.8513j            1.0304            0.3453\n",
       "AR.3            1.1215           -0.0000j            1.1215           -0.0000\n",
       "AR.4            0.9567           -2.0571j            2.2687           -0.1807\n",
       "AR.5            0.9567           +2.0571j            2.2687            0.1807\n",
       "MA.1           -0.5620           -0.8274j            1.0002           -0.3450\n",
       "MA.2           -0.5620           +0.8274j            1.0002            0.3450\n",
       "MA.3            1.0000           -0.0000j            1.0000           -0.0000\n",
       "MA.4            1.1933           -0.0000j            1.1933           -0.0000\n",
       "MA.5          -10.5758           -0.0000j           10.5758           -0.5000\n",
       "-----------------------------------------------------------------------------\n",
       "\"\"\""
      ]
     },
     "execution_count": 20,
     "metadata": {},
     "output_type": "execute_result"
    }
   ],
   "source": [
    "fit.summary()"
   ]
  },
  {
   "cell_type": "markdown",
   "metadata": {},
   "source": [
    "# Step 6: ARIMA Model Test Results "
   ]
  },
  {
   "cell_type": "code",
   "execution_count": 88,
   "metadata": {
    "scrolled": false
   },
   "outputs": [
    {
     "name": "stderr",
     "output_type": "stream",
     "text": [
      "/home/rkumar/anaconda3/envs/DS1ENV/lib/python3.5/site-packages/scipy/signal/signaltools.py:1344: FutureWarning: Using a non-tuple sequence for multidimensional indexing is deprecated; use `arr[tuple(seq)]` instead of `arr[seq]`. In the future this will be interpreted as an array index, `arr[np.array(seq)]`, which will result either in an error or a different result.\n",
      "  out = out_full[ind]\n"
     ]
    }
   ],
   "source": [
    "hist = list(train.values)\n",
    "pred = []\n",
    "\n",
    "for i in range(test.size):\n",
    "    model_fit = ARIMA(endog=hist, order=(0,1,3)).fit()\n",
    "    pred.append(model_fit.forecast()[0][0])\n",
    "    hist.append(test.values[i])"
   ]
  },
  {
   "cell_type": "code",
   "execution_count": 90,
   "metadata": {},
   "outputs": [
    {
     "data": {
      "image/png": "[encoded data removed]",
      "text/plain": [
       "<Figure size 720x432 with 1 Axes>"
      ]
     },
     "metadata": {
      "needs_background": "light"
     },
     "output_type": "display_data"
    }
   ],
   "source": [
    "fig, ax = plt.subplots(1,1,figsize=(10,6))\n",
    "test.plot()\n",
    "ax.plot(test.index, pred, 'r-')\n",
    "plt.show();"
   ]
  },
  {
   "cell_type": "markdown",
   "metadata": {},
   "source": [
    "The RMSE values closer to 0 indicates better fit. \n",
    "\n",
    "From above RMSE values, it is clear that ARIMA predictions were better for following beaches: Gibraltar, Centre, and Cherry. \n",
    "\n",
    "For Sunnyside, MCurtis and Kewbalmy, the ARIMA predictions are not reliable and hence other models should be used for better predictions. \n",
    "\n",
    "ARIMA did not perform so well for beaches Wards, Woodbine, and Rouge as well.\n",
    "\n",
    "For all beaches, the ARIMA model with parameters (p,d,q) = (6,1,1) did not predict well on sudden spikes in e.Coli counts. This could possibly be because of the sudden changes that these spikes bring compared to the base values seen at the bottom of the above graphs. This will be explored in future with more fine-tuned ARIMA models. "
   ]
  }
 ],
 "metadata": {
  "kernelspec": {
   "display_name": "Python 3",
   "language": "python",
   "name": "python3"
  },
  "language_info": {
   "codemirror_mode": {
    "name": "ipython",
    "version": 3
   },
   "file_extension": ".py",
   "mimetype": "text/x-python",
   "name": "python",
   "nbconvert_exporter": "python",
   "pygments_lexer": "ipython3",
   "version": "3.5.5"
  }
 },
 "nbformat": 4,
 "nbformat_minor": 2
}
