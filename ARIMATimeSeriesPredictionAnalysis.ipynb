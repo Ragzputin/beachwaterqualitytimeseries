{
 "cells": [
  {
   "cell_type": "code",
   "execution_count": 1,
   "metadata": {},
   "outputs": [],
   "source": [
    "import xml.etree.cElementTree as et\n",
    "import pandas as pd\n",
    "import numpy as np\n",
    "import requests\n",
    "\n",
    "from statsmodels.tsa.seasonal import seasonal_decompose\n",
    "from statsmodels.tsa.arima_model import ARIMA\n",
    "from statsmodels.graphics import tsaplots\n",
    "\n",
    "from pandas.plotting import autocorrelation_plot\n",
    "from statsmodels.graphics.tsaplots import plot_acf, plot_pacf\n",
    "from sklearn.metrics import mean_squared_error\n",
    "\n",
    "import seaborn as sns\n",
    "import matplotlib.pyplot as plt\n",
    "%matplotlib inline\n",
    "\n",
    "from IPython.core.debugger import set_trace\n",
    "#from statsmodels.stats.proportion import proportion_ztest"
   ]
  },
  {
   "cell_type": "markdown",
   "metadata": {},
   "source": [
    "# Step 1: Acquire Data From CSV File"
   ]
  },
  {
   "cell_type": "code",
   "execution_count": 2,
   "metadata": {},
   "outputs": [],
   "source": [
    "beach_complete = pd.read_csv('beach_complete.csv',delimiter=',',header=0,index_col=0)"
   ]
  },
  {
   "cell_type": "code",
   "execution_count": 3,
   "metadata": {},
   "outputs": [],
   "source": [
    "beach_clean = beach_complete.dropna()"
   ]
  },
  {
   "cell_type": "code",
   "execution_count": 4,
   "metadata": {},
   "outputs": [],
   "source": [
    "beach_clean.apply(pd.to_numeric);"
   ]
  },
  {
   "cell_type": "code",
   "execution_count": 5,
   "metadata": {},
   "outputs": [
    {
     "name": "stderr",
     "output_type": "stream",
     "text": [
      "/home/rkumar/anaconda3/envs/DS1ENV/lib/python3.5/site-packages/ipykernel_launcher.py:1: SettingWithCopyWarning: \n",
      "A value is trying to be set on a copy of a slice from a DataFrame.\n",
      "Try using .loc[row_indexer,col_indexer] = value instead\n",
      "\n",
      "See the caveats in the documentation: http://pandas.pydata.org/pandas-docs/stable/indexing.html#indexing-view-versus-copy\n",
      "  \"\"\"Entry point for launching an IPython kernel.\n"
     ]
    }
   ],
   "source": [
    "beach_clean['average'] = beach_clean.mean(1)"
   ]
  },
  {
   "cell_type": "code",
   "execution_count": 6,
   "metadata": {},
   "outputs": [
    {
     "data": {
      "text/html": [
       "<div>\n",
       "<style scoped>\n",
       "    .dataframe tbody tr th:only-of-type {\n",
       "        vertical-align: middle;\n",
       "    }\n",
       "\n",
       "    .dataframe tbody tr th {\n",
       "        vertical-align: top;\n",
       "    }\n",
       "\n",
       "    .dataframe thead th {\n",
       "        text-align: right;\n",
       "    }\n",
       "</style>\n",
       "<table border=\"1\" class=\"dataframe\">\n",
       "  <thead>\n",
       "    <tr style=\"text-align: right;\">\n",
       "      <th></th>\n",
       "      <th>MCurtis-1</th>\n",
       "      <th>Bluffers-10</th>\n",
       "      <th>Rouge-11</th>\n",
       "      <th>Sunnyside-2</th>\n",
       "      <th>Hanlans-3</th>\n",
       "      <th>Gibraltar-4</th>\n",
       "      <th>Centre-5</th>\n",
       "      <th>Wards-6</th>\n",
       "      <th>Cherry-7</th>\n",
       "      <th>Woodbine-8</th>\n",
       "      <th>KewBalmy-9</th>\n",
       "      <th>average</th>\n",
       "    </tr>\n",
       "    <tr>\n",
       "      <th>sampleDate</th>\n",
       "      <th></th>\n",
       "      <th></th>\n",
       "      <th></th>\n",
       "      <th></th>\n",
       "      <th></th>\n",
       "      <th></th>\n",
       "      <th></th>\n",
       "      <th></th>\n",
       "      <th></th>\n",
       "      <th></th>\n",
       "      <th></th>\n",
       "      <th></th>\n",
       "    </tr>\n",
       "  </thead>\n",
       "  <tbody>\n",
       "    <tr>\n",
       "      <th>2009-06-01</th>\n",
       "      <td>27.0</td>\n",
       "      <td>12.0</td>\n",
       "      <td>39.0</td>\n",
       "      <td>28.0</td>\n",
       "      <td>11.0</td>\n",
       "      <td>18.0</td>\n",
       "      <td>24.0</td>\n",
       "      <td>63.0</td>\n",
       "      <td>51.0</td>\n",
       "      <td>10.0</td>\n",
       "      <td>10.0</td>\n",
       "      <td>26.636364</td>\n",
       "    </tr>\n",
       "    <tr>\n",
       "      <th>2009-06-02</th>\n",
       "      <td>10.0</td>\n",
       "      <td>14.0</td>\n",
       "      <td>52.0</td>\n",
       "      <td>16.0</td>\n",
       "      <td>10.0</td>\n",
       "      <td>18.0</td>\n",
       "      <td>22.0</td>\n",
       "      <td>18.0</td>\n",
       "      <td>19.0</td>\n",
       "      <td>10.0</td>\n",
       "      <td>10.0</td>\n",
       "      <td>18.090909</td>\n",
       "    </tr>\n",
       "    <tr>\n",
       "      <th>2009-06-03</th>\n",
       "      <td>22.0</td>\n",
       "      <td>11.0</td>\n",
       "      <td>14.0</td>\n",
       "      <td>10.0</td>\n",
       "      <td>10.0</td>\n",
       "      <td>11.0</td>\n",
       "      <td>14.0</td>\n",
       "      <td>10.0</td>\n",
       "      <td>10.0</td>\n",
       "      <td>10.0</td>\n",
       "      <td>10.0</td>\n",
       "      <td>12.000000</td>\n",
       "    </tr>\n",
       "    <tr>\n",
       "      <th>2009-06-04</th>\n",
       "      <td>26.0</td>\n",
       "      <td>10.0</td>\n",
       "      <td>11.0</td>\n",
       "      <td>10.0</td>\n",
       "      <td>10.0</td>\n",
       "      <td>11.0</td>\n",
       "      <td>11.0</td>\n",
       "      <td>10.0</td>\n",
       "      <td>10.0</td>\n",
       "      <td>10.0</td>\n",
       "      <td>10.0</td>\n",
       "      <td>11.727273</td>\n",
       "    </tr>\n",
       "    <tr>\n",
       "      <th>2009-06-05</th>\n",
       "      <td>35.0</td>\n",
       "      <td>10.0</td>\n",
       "      <td>31.0</td>\n",
       "      <td>11.0</td>\n",
       "      <td>10.0</td>\n",
       "      <td>10.0</td>\n",
       "      <td>10.0</td>\n",
       "      <td>12.0</td>\n",
       "      <td>10.0</td>\n",
       "      <td>10.0</td>\n",
       "      <td>10.0</td>\n",
       "      <td>14.454545</td>\n",
       "    </tr>\n",
       "    <tr>\n",
       "      <th>2009-06-06</th>\n",
       "      <td>133.0</td>\n",
       "      <td>13.0</td>\n",
       "      <td>29.0</td>\n",
       "      <td>18.0</td>\n",
       "      <td>12.0</td>\n",
       "      <td>10.0</td>\n",
       "      <td>12.0</td>\n",
       "      <td>16.0</td>\n",
       "      <td>10.0</td>\n",
       "      <td>12.0</td>\n",
       "      <td>10.0</td>\n",
       "      <td>25.000000</td>\n",
       "    </tr>\n",
       "    <tr>\n",
       "      <th>2009-06-07</th>\n",
       "      <td>604.0</td>\n",
       "      <td>16.0</td>\n",
       "      <td>20.0</td>\n",
       "      <td>97.0</td>\n",
       "      <td>37.0</td>\n",
       "      <td>28.0</td>\n",
       "      <td>41.0</td>\n",
       "      <td>47.0</td>\n",
       "      <td>10.0</td>\n",
       "      <td>12.0</td>\n",
       "      <td>11.0</td>\n",
       "      <td>83.909091</td>\n",
       "    </tr>\n",
       "    <tr>\n",
       "      <th>2009-06-08</th>\n",
       "      <td>405.0</td>\n",
       "      <td>17.0</td>\n",
       "      <td>99.0</td>\n",
       "      <td>142.0</td>\n",
       "      <td>31.0</td>\n",
       "      <td>33.0</td>\n",
       "      <td>43.0</td>\n",
       "      <td>39.0</td>\n",
       "      <td>10.0</td>\n",
       "      <td>10.0</td>\n",
       "      <td>12.0</td>\n",
       "      <td>76.454545</td>\n",
       "    </tr>\n",
       "    <tr>\n",
       "      <th>2009-06-10</th>\n",
       "      <td>170.0</td>\n",
       "      <td>25.0</td>\n",
       "      <td>155.0</td>\n",
       "      <td>26.0</td>\n",
       "      <td>11.0</td>\n",
       "      <td>18.0</td>\n",
       "      <td>21.0</td>\n",
       "      <td>11.0</td>\n",
       "      <td>12.0</td>\n",
       "      <td>18.0</td>\n",
       "      <td>31.0</td>\n",
       "      <td>45.272727</td>\n",
       "    </tr>\n",
       "    <tr>\n",
       "      <th>2009-06-11</th>\n",
       "      <td>62.0</td>\n",
       "      <td>10.0</td>\n",
       "      <td>27.0</td>\n",
       "      <td>12.0</td>\n",
       "      <td>10.0</td>\n",
       "      <td>11.0</td>\n",
       "      <td>17.0</td>\n",
       "      <td>11.0</td>\n",
       "      <td>10.0</td>\n",
       "      <td>10.0</td>\n",
       "      <td>10.0</td>\n",
       "      <td>17.272727</td>\n",
       "    </tr>\n",
       "  </tbody>\n",
       "</table>\n",
       "</div>"
      ],
      "text/plain": [
       "            MCurtis-1  Bluffers-10  Rouge-11  Sunnyside-2  Hanlans-3  \\\n",
       "sampleDate                                                             \n",
       "2009-06-01       27.0         12.0      39.0         28.0       11.0   \n",
       "2009-06-02       10.0         14.0      52.0         16.0       10.0   \n",
       "2009-06-03       22.0         11.0      14.0         10.0       10.0   \n",
       "2009-06-04       26.0         10.0      11.0         10.0       10.0   \n",
       "2009-06-05       35.0         10.0      31.0         11.0       10.0   \n",
       "2009-06-06      133.0         13.0      29.0         18.0       12.0   \n",
       "2009-06-07      604.0         16.0      20.0         97.0       37.0   \n",
       "2009-06-08      405.0         17.0      99.0        142.0       31.0   \n",
       "2009-06-10      170.0         25.0     155.0         26.0       11.0   \n",
       "2009-06-11       62.0         10.0      27.0         12.0       10.0   \n",
       "\n",
       "            Gibraltar-4  Centre-5  Wards-6  Cherry-7  Woodbine-8  KewBalmy-9  \\\n",
       "sampleDate                                                                     \n",
       "2009-06-01         18.0      24.0     63.0      51.0        10.0        10.0   \n",
       "2009-06-02         18.0      22.0     18.0      19.0        10.0        10.0   \n",
       "2009-06-03         11.0      14.0     10.0      10.0        10.0        10.0   \n",
       "2009-06-04         11.0      11.0     10.0      10.0        10.0        10.0   \n",
       "2009-06-05         10.0      10.0     12.0      10.0        10.0        10.0   \n",
       "2009-06-06         10.0      12.0     16.0      10.0        12.0        10.0   \n",
       "2009-06-07         28.0      41.0     47.0      10.0        12.0        11.0   \n",
       "2009-06-08         33.0      43.0     39.0      10.0        10.0        12.0   \n",
       "2009-06-10         18.0      21.0     11.0      12.0        18.0        31.0   \n",
       "2009-06-11         11.0      17.0     11.0      10.0        10.0        10.0   \n",
       "\n",
       "              average  \n",
       "sampleDate             \n",
       "2009-06-01  26.636364  \n",
       "2009-06-02  18.090909  \n",
       "2009-06-03  12.000000  \n",
       "2009-06-04  11.727273  \n",
       "2009-06-05  14.454545  \n",
       "2009-06-06  25.000000  \n",
       "2009-06-07  83.909091  \n",
       "2009-06-08  76.454545  \n",
       "2009-06-10  45.272727  \n",
       "2009-06-11  17.272727  "
      ]
     },
     "execution_count": 6,
     "metadata": {},
     "output_type": "execute_result"
    }
   ],
   "source": [
    "beach_clean.head(10)"
   ]
  },
  {
   "cell_type": "code",
   "execution_count": 7,
   "metadata": {
    "scrolled": false
   },
   "outputs": [
    {
     "data": {
      "image/png": "[encoded data removed]",
      "text/plain": [
       "<Figure size 1440x2880 with 12 Axes>"
      ]
     },
     "metadata": {
      "needs_background": "light"
     },
     "output_type": "display_data"
    }
   ],
   "source": [
    "fig, ax = plt.subplots(6, 2, figsize=(20,40))\n",
    "cols = beach_clean.columns\n",
    "for i in range(6):\n",
    "    for j in range(2):\n",
    "        if j == 1 and i == 5:\n",
    "            break\n",
    "        elif j == 0:\n",
    "            ax[i][j].hist(beach_clean[cols[i]].values, bins=50, histtype='stepfilled')\n",
    "            ax[i][j].set(xlabel='E.coli counts',ylabel='Frequency',title=cols[i])\n",
    "        else:\n",
    "            ax[i][j].hist(beach_clean[cols[i+6]].values, bins=50, histtype='stepfilled')\n",
    "            ax[i][j].set(xlabel='E.coli counts',ylabel='Frequency',title=cols[i+6])"
   ]
  },
  {
   "cell_type": "code",
   "execution_count": 8,
   "metadata": {},
   "outputs": [],
   "source": [
    "# sunnyside = beach_clean[['Sunnyside-2']]"
   ]
  },
  {
   "cell_type": "code",
   "execution_count": 9,
   "metadata": {},
   "outputs": [],
   "source": [
    "# sunnyside.info()"
   ]
  },
  {
   "cell_type": "code",
   "execution_count": 10,
   "metadata": {},
   "outputs": [],
   "source": [
    "# sunnyside.head()"
   ]
  },
  {
   "cell_type": "code",
   "execution_count": 11,
   "metadata": {},
   "outputs": [],
   "source": [
    "# sunnyside = sunnyside.reset_index()"
   ]
  },
  {
   "cell_type": "code",
   "execution_count": 12,
   "metadata": {},
   "outputs": [],
   "source": [
    "# sunnyside.head()"
   ]
  },
  {
   "cell_type": "code",
   "execution_count": 13,
   "metadata": {},
   "outputs": [],
   "source": [
    "centre = beach_clean[['Centre-5']]"
   ]
  },
  {
   "cell_type": "code",
   "execution_count": 14,
   "metadata": {},
   "outputs": [
    {
     "name": "stdout",
     "output_type": "stream",
     "text": [
      "<class 'pandas.core.frame.DataFrame'>\n",
      "Index: 668 entries, 2009-06-01 to 2018-09-03\n",
      "Data columns (total 1 columns):\n",
      "Centre-5    668 non-null float64\n",
      "dtypes: float64(1)\n",
      "memory usage: 10.4+ KB\n"
     ]
    }
   ],
   "source": [
    "centre.info()"
   ]
  },
  {
   "cell_type": "code",
   "execution_count": 15,
   "metadata": {},
   "outputs": [
    {
     "data": {
      "text/html": [
       "<div>\n",
       "<style scoped>\n",
       "    .dataframe tbody tr th:only-of-type {\n",
       "        vertical-align: middle;\n",
       "    }\n",
       "\n",
       "    .dataframe tbody tr th {\n",
       "        vertical-align: top;\n",
       "    }\n",
       "\n",
       "    .dataframe thead th {\n",
       "        text-align: right;\n",
       "    }\n",
       "</style>\n",
       "<table border=\"1\" class=\"dataframe\">\n",
       "  <thead>\n",
       "    <tr style=\"text-align: right;\">\n",
       "      <th></th>\n",
       "      <th>Centre-5</th>\n",
       "    </tr>\n",
       "    <tr>\n",
       "      <th>sampleDate</th>\n",
       "      <th></th>\n",
       "    </tr>\n",
       "  </thead>\n",
       "  <tbody>\n",
       "    <tr>\n",
       "      <th>2009-06-01</th>\n",
       "      <td>24.0</td>\n",
       "    </tr>\n",
       "    <tr>\n",
       "      <th>2009-06-02</th>\n",
       "      <td>22.0</td>\n",
       "    </tr>\n",
       "    <tr>\n",
       "      <th>2009-06-03</th>\n",
       "      <td>14.0</td>\n",
       "    </tr>\n",
       "    <tr>\n",
       "      <th>2009-06-04</th>\n",
       "      <td>11.0</td>\n",
       "    </tr>\n",
       "    <tr>\n",
       "      <th>2009-06-05</th>\n",
       "      <td>10.0</td>\n",
       "    </tr>\n",
       "  </tbody>\n",
       "</table>\n",
       "</div>"
      ],
      "text/plain": [
       "            Centre-5\n",
       "sampleDate          \n",
       "2009-06-01      24.0\n",
       "2009-06-02      22.0\n",
       "2009-06-03      14.0\n",
       "2009-06-04      11.0\n",
       "2009-06-05      10.0"
      ]
     },
     "execution_count": 15,
     "metadata": {},
     "output_type": "execute_result"
    }
   ],
   "source": [
    "centre.head()"
   ]
  },
  {
   "cell_type": "code",
   "execution_count": 16,
   "metadata": {},
   "outputs": [],
   "source": [
    "centre = centre.reset_index()"
   ]
  },
  {
   "cell_type": "code",
   "execution_count": 17,
   "metadata": {},
   "outputs": [
    {
     "data": {
      "text/html": [
       "<div>\n",
       "<style scoped>\n",
       "    .dataframe tbody tr th:only-of-type {\n",
       "        vertical-align: middle;\n",
       "    }\n",
       "\n",
       "    .dataframe tbody tr th {\n",
       "        vertical-align: top;\n",
       "    }\n",
       "\n",
       "    .dataframe thead th {\n",
       "        text-align: right;\n",
       "    }\n",
       "</style>\n",
       "<table border=\"1\" class=\"dataframe\">\n",
       "  <thead>\n",
       "    <tr style=\"text-align: right;\">\n",
       "      <th></th>\n",
       "      <th>sampleDate</th>\n",
       "      <th>Centre-5</th>\n",
       "    </tr>\n",
       "  </thead>\n",
       "  <tbody>\n",
       "    <tr>\n",
       "      <th>0</th>\n",
       "      <td>2009-06-01</td>\n",
       "      <td>24.0</td>\n",
       "    </tr>\n",
       "    <tr>\n",
       "      <th>1</th>\n",
       "      <td>2009-06-02</td>\n",
       "      <td>22.0</td>\n",
       "    </tr>\n",
       "    <tr>\n",
       "      <th>2</th>\n",
       "      <td>2009-06-03</td>\n",
       "      <td>14.0</td>\n",
       "    </tr>\n",
       "    <tr>\n",
       "      <th>3</th>\n",
       "      <td>2009-06-04</td>\n",
       "      <td>11.0</td>\n",
       "    </tr>\n",
       "    <tr>\n",
       "      <th>4</th>\n",
       "      <td>2009-06-05</td>\n",
       "      <td>10.0</td>\n",
       "    </tr>\n",
       "  </tbody>\n",
       "</table>\n",
       "</div>"
      ],
      "text/plain": [
       "   sampleDate  Centre-5\n",
       "0  2009-06-01      24.0\n",
       "1  2009-06-02      22.0\n",
       "2  2009-06-03      14.0\n",
       "3  2009-06-04      11.0\n",
       "4  2009-06-05      10.0"
      ]
     },
     "execution_count": 17,
     "metadata": {},
     "output_type": "execute_result"
    }
   ],
   "source": [
    "centre.head()"
   ]
  },
  {
   "cell_type": "markdown",
   "metadata": {},
   "source": [
    "# Step 2: ACF and PACF plots"
   ]
  },
  {
   "cell_type": "code",
   "execution_count": 18,
   "metadata": {
    "scrolled": false
   },
   "outputs": [],
   "source": [
    "# def plot_acf_pacf(list_tuples):\n",
    "#     fig, ax = plt.subplots(11, 2, figsize=(20,40))\n",
    "#     for i in range(len(list_tuples)):\n",
    "#         for j in range(len(list_tuples[i])-1):\n",
    "#             str_title_acf = \"Autocorrelation \" + list_tuples[i][1]\n",
    "#             str_title_pacf = \"Partial Autocorrelation  \" + list_tuples[i][1]\n",
    "#             plot_acf(list_tuples[i][0], lags=50, title=str_title_acf, ax=ax[i][j])\n",
    "#             plot_pacf(list_tuples[i][0], lags=50, title=str_title_pacf, ax=ax[i][j+1])\n",
    "    \n",
    "#     plt.show();\n",
    "\n",
    "# plot_acf_pacf(list_tuples)"
   ]
  },
  {
   "cell_type": "code",
   "execution_count": 19,
   "metadata": {},
   "outputs": [],
   "source": [
    "# fig, ax = plt.subplots(1, 2, sharey=True, figsize=(15,4))\n",
    "# plot_acf(sunnyside['Sunnyside-2'], lags=50, title='Sunnyside ACF', ax=ax[0])\n",
    "# plot_pacf(sunnyside['Sunnyside-2'], lags=50, title='Sunnyside PACF', ax=ax[1])\n",
    "# plt.show();"
   ]
  },
  {
   "cell_type": "code",
   "execution_count": 20,
   "metadata": {},
   "outputs": [
    {
     "data": {
      "image/png": "[encoded data removed]",
      "text/plain": [
       "<Figure size 1080x288 with 2 Axes>"
      ]
     },
     "metadata": {
      "needs_background": "light"
     },
     "output_type": "display_data"
    }
   ],
   "source": [
    "fig, ax = plt.subplots(1, 2, sharey=True, figsize=(15,4))\n",
    "plot_acf(centre['Centre-5'], lags=50, title='Centre ACF', ax=ax[0])\n",
    "plot_pacf(centre['Centre-5'], lags=50, title='Centre PACF', ax=ax[1])\n",
    "plt.show();"
   ]
  },
  {
   "cell_type": "markdown",
   "metadata": {},
   "source": [
    "For all 11 beaches, it seems that with a lag=6 there will be very little partial correlation. So we assume lag=6 for both our AR and MA parameters for now."
   ]
  },
  {
   "cell_type": "markdown",
   "metadata": {},
   "source": [
    "# Step 3: Setup Train and Test"
   ]
  },
  {
   "cell_type": "code",
   "execution_count": 21,
   "metadata": {},
   "outputs": [],
   "source": [
    "train_size = int(0.7 * centre['Centre-5'].size)\n",
    "test_size = int(0.3 * centre['Centre-5'].size)"
   ]
  },
  {
   "cell_type": "code",
   "execution_count": 22,
   "metadata": {},
   "outputs": [
    {
     "data": {
      "text/plain": [
       "(467, 200)"
      ]
     },
     "execution_count": 22,
     "metadata": {},
     "output_type": "execute_result"
    }
   ],
   "source": [
    "train_size, test_size"
   ]
  },
  {
   "cell_type": "code",
   "execution_count": 23,
   "metadata": {},
   "outputs": [],
   "source": [
    "# sunnyside['Label'] = 0\n",
    "# for i in sunnyside.index:\n",
    "#     if i >= train_size:\n",
    "#         sunnyside.loc[i, 'Label'] = 1"
   ]
  },
  {
   "cell_type": "code",
   "execution_count": 24,
   "metadata": {},
   "outputs": [],
   "source": [
    "# sunnyside.head(), sunnyside.tail()"
   ]
  },
  {
   "cell_type": "code",
   "execution_count": 25,
   "metadata": {},
   "outputs": [],
   "source": [
    "centre['Label'] = 0\n",
    "for i in centre.index:\n",
    "    if i >= train_size:\n",
    "        centre.loc[i, 'Label'] = 1"
   ]
  },
  {
   "cell_type": "code",
   "execution_count": 26,
   "metadata": {},
   "outputs": [
    {
     "data": {
      "text/plain": [
       "(0    0\n",
       " 1    0\n",
       " 2    0\n",
       " 3    0\n",
       " 4    0\n",
       " Name: Label, dtype: int64, 663    1\n",
       " 664    1\n",
       " 665    1\n",
       " 666    1\n",
       " 667    1\n",
       " Name: Label, dtype: int64)"
      ]
     },
     "execution_count": 26,
     "metadata": {},
     "output_type": "execute_result"
    }
   ],
   "source": [
    "(centre['Label'].head(), centre['Label'].tail())"
   ]
  },
  {
   "cell_type": "markdown",
   "metadata": {},
   "source": [
    "# Step 4: ARIMA Model "
   ]
  },
  {
   "cell_type": "code",
   "execution_count": 27,
   "metadata": {},
   "outputs": [],
   "source": [
    "# sunnyside['Predictions'] = 0\n",
    "# sunnyside['Errors'] = 0"
   ]
  },
  {
   "cell_type": "code",
   "execution_count": 28,
   "metadata": {},
   "outputs": [],
   "source": [
    "# sunnyside['Sunnyside-2'][sunnyside['Label'] == 0].values;"
   ]
  },
  {
   "cell_type": "code",
   "execution_count": 29,
   "metadata": {},
   "outputs": [],
   "source": [
    "# for i in sunnyside.index:\n",
    "#     if sunnyside.loc[i, 'Label'] == 1:\n",
    "#         model = ARIMA(endog=sunnyside['Sunnyside-2'][sunnyside['Label'] == 0].values, order=(5,1,1)).fit()\n",
    "#         sunnyside.loc[i, 'Predictions'] = model.forecast()[0][0]\n",
    "#         sunnyside.loc[i, 'Errors'] = model.forecast()[1][0]\n",
    "#         sunnyside.loc[i, 'Label'] = 0"
   ]
  },
  {
   "cell_type": "code",
   "execution_count": 30,
   "metadata": {},
   "outputs": [],
   "source": [
    "# sunnyside['sampleDate'] = pd.to_datetime(sunnyside['sampleDate'])\n",
    "# years = sunnyside['sampleDate'].dt.year\n",
    "# years = years.drop_duplicates()\n",
    "# years"
   ]
  },
  {
   "cell_type": "code",
   "execution_count": 31,
   "metadata": {},
   "outputs": [],
   "source": [
    "# fig, ax = plt.subplots(1, 1, figsize=(10,6))\n",
    "# ax.plot(sunnyside.index[:train_size], sunnyside['Sunnyside-2'][:train_size], 'b-', label='Train')\n",
    "# ax.plot(sunnyside.index[train_size:train_size+test_size], \n",
    "#         sunnyside['Sunnyside-2'][train_size:train_size+test_size], 'r-', label='Test')\n",
    "# ax.plot(sunnyside.index[train_size:train_size+test_size], \n",
    "#         sunnyside['Predictions'][train_size:train_size+test_size], 'm-', label='Predicted')\n",
    "# plt.xticks(years.index, years)\n",
    "# plt.legend()\n",
    "# plt.show();"
   ]
  },
  {
   "cell_type": "code",
   "execution_count": 32,
   "metadata": {},
   "outputs": [],
   "source": [
    "# #Plot Errors in a histogram\n",
    "# fig, ax = plt.subplots(1, 2, figsize=(10,6))\n",
    "# ax[0].hist(sunnyside['Errors'][train_size:train_size+test_size].values,bins=100,histtype='step',color='green')\n",
    "# ax[0].axvline(sunnyside['Errors'][train_size:train_size+test_size].values.mean())\n",
    "# ax[0].set(xlabel='Bins', ylabel='Error Values', title='Error distribution for Sunnyside Beach', \n",
    "#           xticks=[sunnyside['Errors'][train_size:train_size+test_size].values.mean()])\n",
    "# ax[1].plot(sunnyside['Errors'][train_size:train_size+test_size].index, \n",
    "#            sunnyside['Errors'][train_size:train_size+test_size].values,'o')\n",
    "# ax[1].set(xlabel='Time', ylabel='Error Values', title='Error Scatter Plot for Sunnyside Beach');"
   ]
  },
  {
   "cell_type": "code",
   "execution_count": 33,
   "metadata": {},
   "outputs": [],
   "source": [
    "# #Plot Predictions in a histogram\n",
    "# fig, ax = plt.subplots(1, 1, figsize=(10,6))\n",
    "# ax.hist(sunnyside['Predictions'][train_size:train_size+test_size].values,bins=50,histtype='step',\n",
    "#         color='green',label='Predictions')\n",
    "# ax.hist(sunnyside['Sunnyside-2'][train_size:train_size+test_size].values,bins=50,histtype='step',\n",
    "#         color='blue',label='Actuals')\n",
    "# ax.set(xlabel='Bins', ylabel='Prediction Values', \n",
    "#        title='Histograms of Predictions versus Actuals (Sunnyside Beach)')\n",
    "# plt.legend();"
   ]
  },
  {
   "cell_type": "code",
   "execution_count": 34,
   "metadata": {},
   "outputs": [],
   "source": [
    "centre['Predictions'] = 0\n",
    "centre['Errors'] = 0"
   ]
  },
  {
   "cell_type": "code",
   "execution_count": 37,
   "metadata": {},
   "outputs": [],
   "source": [
    "for i in centre.index:\n",
    "    if centre.loc[i, 'Label'] == 1:\n",
    "        model = ARIMA(endog=centre['Centre-5'][centre['Label'] == 0].values,order=(7,1,1)).fit()\n",
    "        centre.loc[i, 'Predictions'] = model.forecast()[0][0]\n",
    "        centre.loc[i, 'Errors'] = model.forecast()[1][0]\n",
    "        centre.loc[i, 'Label'] = 0"
   ]
  },
  {
   "cell_type": "code",
   "execution_count": 38,
   "metadata": {},
   "outputs": [
    {
     "data": {
      "text/plain": [
       "0      2009\n",
       "48     2010\n",
       "125    2011\n",
       "201    2012\n",
       "263    2013\n",
       "330    2014\n",
       "392    2015\n",
       "465    2016\n",
       "537    2017\n",
       "593    2018\n",
       "Name: sampleDate, dtype: int64"
      ]
     },
     "execution_count": 38,
     "metadata": {},
     "output_type": "execute_result"
    }
   ],
   "source": [
    "centre['sampleDate'] = pd.to_datetime(centre['sampleDate'])\n",
    "years = centre['sampleDate'].dt.year\n",
    "years = years.drop_duplicates()\n",
    "years"
   ]
  },
  {
   "cell_type": "code",
   "execution_count": 39,
   "metadata": {},
   "outputs": [
    {
     "data": {
      "image/png": "[encoded data removed]",
      "text/plain": [
       "<Figure size 720x432 with 1 Axes>"
      ]
     },
     "metadata": {
      "needs_background": "light"
     },
     "output_type": "display_data"
    }
   ],
   "source": [
    "fig, ax = plt.subplots(1, 1, figsize=(10,6))\n",
    "ax.plot(centre.index[:train_size], centre['Centre-5'][:train_size], 'b-', label='Train')\n",
    "ax.plot(centre.index[train_size:train_size+test_size], \n",
    "        centre['Centre-5'][train_size:train_size+test_size], 'r-', label='Test')\n",
    "ax.plot(centre.index[train_size:train_size+test_size], \n",
    "        centre['Predictions'][train_size:train_size+test_size], 'm-', label='Predicted')\n",
    "plt.xticks(years.index, years)\n",
    "plt.legend()\n",
    "plt.show();"
   ]
  },
  {
   "cell_type": "markdown",
   "metadata": {},
   "source": [
    "# Step 5: ARIMA Model Test Results "
   ]
  },
  {
   "cell_type": "code",
   "execution_count": null,
   "metadata": {},
   "outputs": [],
   "source": [
    "rmse = np.sqrt(mean_squared_error(sunnyside['Sunnyside-2'][train_size:train_size+test_size],\n",
    "                                  sunnyside['Predictions'][train_size:train_size+test_size]))\n",
    "rmse"
   ]
  },
  {
   "cell_type": "code",
   "execution_count": 40,
   "metadata": {},
   "outputs": [
    {
     "data": {
      "text/plain": [
       "27.49218546266663"
      ]
     },
     "execution_count": 40,
     "metadata": {},
     "output_type": "execute_result"
    }
   ],
   "source": [
    "rmse = np.sqrt(mean_squared_error(centre['Centre-5'][train_size:train_size+test_size],\n",
    "                                  centre['Predictions'][train_size:train_size+test_size]))\n",
    "rmse"
   ]
  },
  {
   "cell_type": "code",
   "execution_count": null,
   "metadata": {},
   "outputs": [],
   "source": []
  }
 ],
 "metadata": {
  "kernelspec": {
   "display_name": "Python 3",
   "language": "python",
   "name": "python3"
  },
  "language_info": {
   "codemirror_mode": {
    "name": "ipython",
    "version": 3
   },
   "file_extension": ".py",
   "mimetype": "text/x-python",
   "name": "python",
   "nbconvert_exporter": "python",
   "pygments_lexer": "ipython3",
   "version": "3.5.5"
  }
 },
 "nbformat": 4,
 "nbformat_minor": 2
}
