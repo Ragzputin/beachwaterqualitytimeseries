{
 "cells": [
  {
   "cell_type": "code",
   "execution_count": 1,
   "metadata": {},
   "outputs": [],
   "source": [
    "import xml.etree.cElementTree as et\n",
    "import pandas as pd\n",
    "import numpy as np\n",
    "import requests\n",
    "\n",
    "from statsmodels.tsa.seasonal import seasonal_decompose\n",
    "from statsmodels.tsa.arima_model import ARIMA\n",
    "from statsmodels.graphics import tsaplots\n",
    "\n",
    "from scipy.stats import norm\n",
    "\n",
    "from pandas.plotting import autocorrelation_plot\n",
    "from statsmodels.graphics.tsaplots import plot_acf, plot_pacf\n",
    "from sklearn.linear_model import LinearRegression\n",
    "from sklearn.metrics import mean_squared_error\n",
    "\n",
    "import seaborn as sns\n",
    "import matplotlib.pyplot as plt\n",
    "%matplotlib inline\n",
    "\n",
    "from IPython.core.debugger import set_trace"
   ]
  },
  {
   "cell_type": "markdown",
   "metadata": {},
   "source": [
    "# Step 1: Acquire Data From CSV File"
   ]
  },
  {
   "cell_type": "code",
   "execution_count": 2,
   "metadata": {},
   "outputs": [],
   "source": [
    "beach_complete = pd.read_csv('beach_complete.csv',delimiter=',',header=0,index_col=0)"
   ]
  },
  {
   "cell_type": "code",
   "execution_count": 3,
   "metadata": {},
   "outputs": [
    {
     "data": {
      "text/html": [
       "<div>\n",
       "<style scoped>\n",
       "    .dataframe tbody tr th:only-of-type {\n",
       "        vertical-align: middle;\n",
       "    }\n",
       "\n",
       "    .dataframe tbody tr th {\n",
       "        vertical-align: top;\n",
       "    }\n",
       "\n",
       "    .dataframe thead th {\n",
       "        text-align: right;\n",
       "    }\n",
       "</style>\n",
       "<table border=\"1\" class=\"dataframe\">\n",
       "  <thead>\n",
       "    <tr style=\"text-align: right;\">\n",
       "      <th></th>\n",
       "      <th>MCurtis-1</th>\n",
       "      <th>Bluffers-10</th>\n",
       "      <th>Rouge-11</th>\n",
       "      <th>Sunnyside-2</th>\n",
       "      <th>Hanlans-3</th>\n",
       "      <th>Gibraltar-4</th>\n",
       "      <th>Centre-5</th>\n",
       "      <th>Wards-6</th>\n",
       "      <th>Cherry-7</th>\n",
       "      <th>Woodbine-8</th>\n",
       "      <th>KewBalmy-9</th>\n",
       "    </tr>\n",
       "    <tr>\n",
       "      <th>sampleDate</th>\n",
       "      <th></th>\n",
       "      <th></th>\n",
       "      <th></th>\n",
       "      <th></th>\n",
       "      <th></th>\n",
       "      <th></th>\n",
       "      <th></th>\n",
       "      <th></th>\n",
       "      <th></th>\n",
       "      <th></th>\n",
       "      <th></th>\n",
       "    </tr>\n",
       "  </thead>\n",
       "  <tbody>\n",
       "    <tr>\n",
       "      <th>2009-06-01</th>\n",
       "      <td>27.0</td>\n",
       "      <td>12.0</td>\n",
       "      <td>39.0</td>\n",
       "      <td>28.0</td>\n",
       "      <td>11.0</td>\n",
       "      <td>18.0</td>\n",
       "      <td>24.0</td>\n",
       "      <td>63.0</td>\n",
       "      <td>51.0</td>\n",
       "      <td>10.0</td>\n",
       "      <td>10.0</td>\n",
       "    </tr>\n",
       "    <tr>\n",
       "      <th>2009-06-02</th>\n",
       "      <td>10.0</td>\n",
       "      <td>14.0</td>\n",
       "      <td>52.0</td>\n",
       "      <td>16.0</td>\n",
       "      <td>10.0</td>\n",
       "      <td>18.0</td>\n",
       "      <td>22.0</td>\n",
       "      <td>18.0</td>\n",
       "      <td>19.0</td>\n",
       "      <td>10.0</td>\n",
       "      <td>10.0</td>\n",
       "    </tr>\n",
       "    <tr>\n",
       "      <th>2009-06-03</th>\n",
       "      <td>22.0</td>\n",
       "      <td>11.0</td>\n",
       "      <td>14.0</td>\n",
       "      <td>10.0</td>\n",
       "      <td>10.0</td>\n",
       "      <td>11.0</td>\n",
       "      <td>14.0</td>\n",
       "      <td>10.0</td>\n",
       "      <td>10.0</td>\n",
       "      <td>10.0</td>\n",
       "      <td>10.0</td>\n",
       "    </tr>\n",
       "    <tr>\n",
       "      <th>2009-06-04</th>\n",
       "      <td>26.0</td>\n",
       "      <td>10.0</td>\n",
       "      <td>11.0</td>\n",
       "      <td>10.0</td>\n",
       "      <td>10.0</td>\n",
       "      <td>11.0</td>\n",
       "      <td>11.0</td>\n",
       "      <td>10.0</td>\n",
       "      <td>10.0</td>\n",
       "      <td>10.0</td>\n",
       "      <td>10.0</td>\n",
       "    </tr>\n",
       "    <tr>\n",
       "      <th>2009-06-05</th>\n",
       "      <td>35.0</td>\n",
       "      <td>10.0</td>\n",
       "      <td>31.0</td>\n",
       "      <td>11.0</td>\n",
       "      <td>10.0</td>\n",
       "      <td>10.0</td>\n",
       "      <td>10.0</td>\n",
       "      <td>12.0</td>\n",
       "      <td>10.0</td>\n",
       "      <td>10.0</td>\n",
       "      <td>10.0</td>\n",
       "    </tr>\n",
       "    <tr>\n",
       "      <th>2009-06-06</th>\n",
       "      <td>133.0</td>\n",
       "      <td>13.0</td>\n",
       "      <td>29.0</td>\n",
       "      <td>18.0</td>\n",
       "      <td>12.0</td>\n",
       "      <td>10.0</td>\n",
       "      <td>12.0</td>\n",
       "      <td>16.0</td>\n",
       "      <td>10.0</td>\n",
       "      <td>12.0</td>\n",
       "      <td>10.0</td>\n",
       "    </tr>\n",
       "    <tr>\n",
       "      <th>2009-06-07</th>\n",
       "      <td>604.0</td>\n",
       "      <td>16.0</td>\n",
       "      <td>20.0</td>\n",
       "      <td>97.0</td>\n",
       "      <td>37.0</td>\n",
       "      <td>28.0</td>\n",
       "      <td>41.0</td>\n",
       "      <td>47.0</td>\n",
       "      <td>10.0</td>\n",
       "      <td>12.0</td>\n",
       "      <td>11.0</td>\n",
       "    </tr>\n",
       "    <tr>\n",
       "      <th>2009-06-08</th>\n",
       "      <td>405.0</td>\n",
       "      <td>17.0</td>\n",
       "      <td>99.0</td>\n",
       "      <td>142.0</td>\n",
       "      <td>31.0</td>\n",
       "      <td>33.0</td>\n",
       "      <td>43.0</td>\n",
       "      <td>39.0</td>\n",
       "      <td>10.0</td>\n",
       "      <td>10.0</td>\n",
       "      <td>12.0</td>\n",
       "    </tr>\n",
       "    <tr>\n",
       "      <th>2009-06-09</th>\n",
       "      <td>NaN</td>\n",
       "      <td>37.0</td>\n",
       "      <td>368.0</td>\n",
       "      <td>63.0</td>\n",
       "      <td>11.0</td>\n",
       "      <td>20.0</td>\n",
       "      <td>16.0</td>\n",
       "      <td>11.0</td>\n",
       "      <td>12.0</td>\n",
       "      <td>18.0</td>\n",
       "      <td>34.0</td>\n",
       "    </tr>\n",
       "    <tr>\n",
       "      <th>2009-06-10</th>\n",
       "      <td>170.0</td>\n",
       "      <td>25.0</td>\n",
       "      <td>155.0</td>\n",
       "      <td>26.0</td>\n",
       "      <td>11.0</td>\n",
       "      <td>18.0</td>\n",
       "      <td>21.0</td>\n",
       "      <td>11.0</td>\n",
       "      <td>12.0</td>\n",
       "      <td>18.0</td>\n",
       "      <td>31.0</td>\n",
       "    </tr>\n",
       "  </tbody>\n",
       "</table>\n",
       "</div>"
      ],
      "text/plain": [
       "            MCurtis-1  Bluffers-10  Rouge-11  Sunnyside-2  Hanlans-3  \\\n",
       "sampleDate                                                             \n",
       "2009-06-01       27.0         12.0      39.0         28.0       11.0   \n",
       "2009-06-02       10.0         14.0      52.0         16.0       10.0   \n",
       "2009-06-03       22.0         11.0      14.0         10.0       10.0   \n",
       "2009-06-04       26.0         10.0      11.0         10.0       10.0   \n",
       "2009-06-05       35.0         10.0      31.0         11.0       10.0   \n",
       "2009-06-06      133.0         13.0      29.0         18.0       12.0   \n",
       "2009-06-07      604.0         16.0      20.0         97.0       37.0   \n",
       "2009-06-08      405.0         17.0      99.0        142.0       31.0   \n",
       "2009-06-09        NaN         37.0     368.0         63.0       11.0   \n",
       "2009-06-10      170.0         25.0     155.0         26.0       11.0   \n",
       "\n",
       "            Gibraltar-4  Centre-5  Wards-6  Cherry-7  Woodbine-8  KewBalmy-9  \n",
       "sampleDate                                                                    \n",
       "2009-06-01         18.0      24.0     63.0      51.0        10.0        10.0  \n",
       "2009-06-02         18.0      22.0     18.0      19.0        10.0        10.0  \n",
       "2009-06-03         11.0      14.0     10.0      10.0        10.0        10.0  \n",
       "2009-06-04         11.0      11.0     10.0      10.0        10.0        10.0  \n",
       "2009-06-05         10.0      10.0     12.0      10.0        10.0        10.0  \n",
       "2009-06-06         10.0      12.0     16.0      10.0        12.0        10.0  \n",
       "2009-06-07         28.0      41.0     47.0      10.0        12.0        11.0  \n",
       "2009-06-08         33.0      43.0     39.0      10.0        10.0        12.0  \n",
       "2009-06-09         20.0      16.0     11.0      12.0        18.0        34.0  \n",
       "2009-06-10         18.0      21.0     11.0      12.0        18.0        31.0  "
      ]
     },
     "execution_count": 3,
     "metadata": {},
     "output_type": "execute_result"
    }
   ],
   "source": [
    "beach_complete.head(10)"
   ]
  },
  {
   "cell_type": "code",
   "execution_count": 4,
   "metadata": {},
   "outputs": [],
   "source": [
    "beach_clean = beach_complete.dropna()"
   ]
  },
  {
   "cell_type": "code",
   "execution_count": 5,
   "metadata": {},
   "outputs": [],
   "source": [
    "beach_clean.apply(pd.to_numeric);"
   ]
  },
  {
   "cell_type": "code",
   "execution_count": 6,
   "metadata": {
    "scrolled": false
   },
   "outputs": [],
   "source": [
    "#fig, ax = plt.subplots(6, 2, figsize=(20,40))\n",
    "#cols = beach_clean.columns\n",
    "#for i in range(6):\n",
    "#    for j in range(2):\n",
    "#        if j == 1 and i == 5:\n",
    "#            break\n",
    "#        elif j == 0:\n",
    "#            ax[i][j].hist(np.log(beach_clean[cols[i]].values), bins=50, histtype='stepfilled')\n",
    "#            ax[i][j].set(xlabel='E.coli counts',ylabel='Frequency',title=cols[i])\n",
    "            #set_trace()\n",
    "#        else:\n",
    "#            ax[i][j].hist(np.log(beach_clean[cols[i+6]]).values, bins=50, histtype='stepfilled')\n",
    "#            ax[i][j].set(xlabel='E.coli counts',ylabel='Frequency',title=cols[i+6])"
   ]
  },
  {
   "cell_type": "code",
   "execution_count": 7,
   "metadata": {},
   "outputs": [],
   "source": [
    "sunnyside = beach_clean[['Sunnyside-2']]"
   ]
  },
  {
   "cell_type": "code",
   "execution_count": 8,
   "metadata": {},
   "outputs": [
    {
     "name": "stdout",
     "output_type": "stream",
     "text": [
      "<class 'pandas.core.frame.DataFrame'>\n",
      "Index: 668 entries, 2009-06-01 to 2018-09-03\n",
      "Data columns (total 1 columns):\n",
      "Sunnyside-2    668 non-null float64\n",
      "dtypes: float64(1)\n",
      "memory usage: 10.4+ KB\n"
     ]
    }
   ],
   "source": [
    "sunnyside.info()"
   ]
  },
  {
   "cell_type": "code",
   "execution_count": 9,
   "metadata": {},
   "outputs": [
    {
     "data": {
      "text/html": [
       "<div>\n",
       "<style scoped>\n",
       "    .dataframe tbody tr th:only-of-type {\n",
       "        vertical-align: middle;\n",
       "    }\n",
       "\n",
       "    .dataframe tbody tr th {\n",
       "        vertical-align: top;\n",
       "    }\n",
       "\n",
       "    .dataframe thead th {\n",
       "        text-align: right;\n",
       "    }\n",
       "</style>\n",
       "<table border=\"1\" class=\"dataframe\">\n",
       "  <thead>\n",
       "    <tr style=\"text-align: right;\">\n",
       "      <th></th>\n",
       "      <th>Sunnyside-2</th>\n",
       "    </tr>\n",
       "    <tr>\n",
       "      <th>sampleDate</th>\n",
       "      <th></th>\n",
       "    </tr>\n",
       "  </thead>\n",
       "  <tbody>\n",
       "    <tr>\n",
       "      <th>2009-06-01</th>\n",
       "      <td>28.0</td>\n",
       "    </tr>\n",
       "    <tr>\n",
       "      <th>2009-06-02</th>\n",
       "      <td>16.0</td>\n",
       "    </tr>\n",
       "    <tr>\n",
       "      <th>2009-06-03</th>\n",
       "      <td>10.0</td>\n",
       "    </tr>\n",
       "    <tr>\n",
       "      <th>2009-06-04</th>\n",
       "      <td>10.0</td>\n",
       "    </tr>\n",
       "    <tr>\n",
       "      <th>2009-06-05</th>\n",
       "      <td>11.0</td>\n",
       "    </tr>\n",
       "  </tbody>\n",
       "</table>\n",
       "</div>"
      ],
      "text/plain": [
       "            Sunnyside-2\n",
       "sampleDate             \n",
       "2009-06-01         28.0\n",
       "2009-06-02         16.0\n",
       "2009-06-03         10.0\n",
       "2009-06-04         10.0\n",
       "2009-06-05         11.0"
      ]
     },
     "execution_count": 9,
     "metadata": {},
     "output_type": "execute_result"
    }
   ],
   "source": [
    "sunnyside.head()"
   ]
  },
  {
   "cell_type": "code",
   "execution_count": 10,
   "metadata": {},
   "outputs": [],
   "source": [
    "sunnyside = sunnyside.reset_index()"
   ]
  },
  {
   "cell_type": "code",
   "execution_count": 11,
   "metadata": {},
   "outputs": [
    {
     "data": {
      "text/html": [
       "<div>\n",
       "<style scoped>\n",
       "    .dataframe tbody tr th:only-of-type {\n",
       "        vertical-align: middle;\n",
       "    }\n",
       "\n",
       "    .dataframe tbody tr th {\n",
       "        vertical-align: top;\n",
       "    }\n",
       "\n",
       "    .dataframe thead th {\n",
       "        text-align: right;\n",
       "    }\n",
       "</style>\n",
       "<table border=\"1\" class=\"dataframe\">\n",
       "  <thead>\n",
       "    <tr style=\"text-align: right;\">\n",
       "      <th></th>\n",
       "      <th>sampleDate</th>\n",
       "      <th>Sunnyside-2</th>\n",
       "    </tr>\n",
       "  </thead>\n",
       "  <tbody>\n",
       "    <tr>\n",
       "      <th>0</th>\n",
       "      <td>2009-06-01</td>\n",
       "      <td>28.0</td>\n",
       "    </tr>\n",
       "    <tr>\n",
       "      <th>1</th>\n",
       "      <td>2009-06-02</td>\n",
       "      <td>16.0</td>\n",
       "    </tr>\n",
       "    <tr>\n",
       "      <th>2</th>\n",
       "      <td>2009-06-03</td>\n",
       "      <td>10.0</td>\n",
       "    </tr>\n",
       "    <tr>\n",
       "      <th>3</th>\n",
       "      <td>2009-06-04</td>\n",
       "      <td>10.0</td>\n",
       "    </tr>\n",
       "    <tr>\n",
       "      <th>4</th>\n",
       "      <td>2009-06-05</td>\n",
       "      <td>11.0</td>\n",
       "    </tr>\n",
       "  </tbody>\n",
       "</table>\n",
       "</div>"
      ],
      "text/plain": [
       "   sampleDate  Sunnyside-2\n",
       "0  2009-06-01         28.0\n",
       "1  2009-06-02         16.0\n",
       "2  2009-06-03         10.0\n",
       "3  2009-06-04         10.0\n",
       "4  2009-06-05         11.0"
      ]
     },
     "execution_count": 11,
     "metadata": {},
     "output_type": "execute_result"
    }
   ],
   "source": [
    "sunnyside.head()"
   ]
  },
  {
   "cell_type": "code",
   "execution_count": 12,
   "metadata": {},
   "outputs": [],
   "source": [
    "# plt.hist(sunnyside.values, bins=30, histtype='bar', color='green', label = 'Sunnyside')\n",
    "# plt.legend()\n",
    "# plt.show();"
   ]
  },
  {
   "cell_type": "code",
   "execution_count": 13,
   "metadata": {},
   "outputs": [],
   "source": [
    "# sunnyside.plot(color='red', label = 'Sunnyside')\n",
    "# plt.legend()\n",
    "# plt.show();"
   ]
  },
  {
   "cell_type": "markdown",
   "metadata": {},
   "source": [
    "# Step 2: ACF and PACF plots"
   ]
  },
  {
   "cell_type": "code",
   "execution_count": 14,
   "metadata": {},
   "outputs": [],
   "source": [
    "# fig, ax = plt.subplots(1, 2, sharey=True, figsize=(15,4))\n",
    "# plot_acf(sunnyside, lags=50, title='Sunnyside ACF', ax=ax[0])\n",
    "# plot_pacf(sunnyside, lags=50, title='Sunnyside PACF', ax=ax[1])\n",
    "# plt.show();"
   ]
  },
  {
   "cell_type": "markdown",
   "metadata": {},
   "source": [
    "# Step 5: Setup Train and Test"
   ]
  },
  {
   "cell_type": "code",
   "execution_count": 15,
   "metadata": {},
   "outputs": [],
   "source": [
    "train_size = int(0.7 * sunnyside['Sunnyside-2'].size)\n",
    "test_size = int(0.3 * sunnyside['Sunnyside-2'].size)"
   ]
  },
  {
   "cell_type": "code",
   "execution_count": 16,
   "metadata": {},
   "outputs": [
    {
     "data": {
      "text/plain": [
       "(467, 200)"
      ]
     },
     "execution_count": 16,
     "metadata": {},
     "output_type": "execute_result"
    }
   ],
   "source": [
    "train_size, test_size"
   ]
  },
  {
   "cell_type": "code",
   "execution_count": 17,
   "metadata": {},
   "outputs": [],
   "source": [
    "sunnyside['Label'] = 0\n",
    "for i in sunnyside.index:\n",
    "    if i >= train_size:\n",
    "        sunnyside.loc[i, 'Label'] = 1"
   ]
  },
  {
   "cell_type": "code",
   "execution_count": 18,
   "metadata": {},
   "outputs": [
    {
     "data": {
      "text/plain": [
       "(   sampleDate  Sunnyside-2  Label\n",
       " 0  2009-06-01         28.0      0\n",
       " 1  2009-06-02         16.0      0\n",
       " 2  2009-06-03         10.0      0\n",
       " 3  2009-06-04         10.0      0\n",
       " 4  2009-06-05         11.0      0,      sampleDate  Sunnyside-2  Label\n",
       " 663  2018-08-24         97.0      1\n",
       " 664  2018-08-28        423.0      1\n",
       " 665  2018-08-29        308.0      1\n",
       " 666  2018-08-30        158.0      1\n",
       " 667  2018-09-03        132.0      1)"
      ]
     },
     "execution_count": 18,
     "metadata": {},
     "output_type": "execute_result"
    }
   ],
   "source": [
    "sunnyside.head(), sunnyside.tail()"
   ]
  },
  {
   "cell_type": "markdown",
   "metadata": {},
   "source": [
    "# Step 6: ARIMA Model"
   ]
  },
  {
   "cell_type": "code",
   "execution_count": 19,
   "metadata": {},
   "outputs": [],
   "source": [
    "sunnyside['Predictions'] = 0\n",
    "sunnyside['Errors'] = 0"
   ]
  },
  {
   "cell_type": "code",
   "execution_count": 20,
   "metadata": {},
   "outputs": [
    {
     "data": {
      "text/plain": [
       "array([ 28.,  16.,  10.,  10.,  11.,  18.,  97., 142.,  26.,  12.,  14.,\n",
       "        20.,  19.,  14.,  16.,  37.,  65., 149.,  49.,  80., 119.,  88.,\n",
       "       182., 172.,  30.,  17., 201., 228.,  83.,  42.,  32., 115., 258.,\n",
       "        83.,  49., 222., 815., 276.,  60.,  30.,  61.,  28.,  75.,  93.,\n",
       "        86.,  65., 127., 123.,  68.,  65.,  61.,  35.,  88., 102.,  30.,\n",
       "        44.,  55.,  29.,  37., 117., 233., 107., 104.,  53., 131., 467.,\n",
       "       111.,  40.,  69., 100.,  61.,  55., 186., 371., 336., 142., 122.,\n",
       "        75.,  39., 128., 125.,  64.,  88.,  61.,  87.,  67., 200., 513.,\n",
       "       309., 144.,  60., 129., 194., 244., 129.,  37.,  53.,  56.,  69.,\n",
       "        90.,  56.,  49.,  52.,  93., 225., 125.,  38.,  43.,  44.,  94.,\n",
       "       122.,  29.,  76., 106., 117.,  54., 108., 126.,  70.,  63.,  55.,\n",
       "        41.,  27.,  53., 140.,  48.,  35.,  66.,  42.,  18.,  27.,  29.,\n",
       "        16.,  16.,  22.,  69.,  80.,  22.,  57., 284., 542., 447.,  33.,\n",
       "        63.,  26.,  11.,  18.,  43.,  32.,  15.,  38.,  44.,  23.,  31.,\n",
       "        34.,  40.,  61.,  32.,  11.,  23.,  34.,  81.,  93.,  39.,  94.,\n",
       "        58.,  24.,  99.,  30.,  25.,  97.,  53.,  17.,  19.,  60., 149.,\n",
       "        72.,  32.,  24., 220., 119.,  81.,  49.,  55.,  97.,  45.,  49.,\n",
       "        81.,  82.,  81., 347., 223., 336.,  96.,  48.,  36.,  58.,  39.,\n",
       "        46.,  82., 208.,  38.,  20.,  26.,  34.,  30.,  23.,  19.,  20.,\n",
       "        28.,  31., 182., 114.,  72.,  92.,  80.,  36.,  31.,  35.,  34.,\n",
       "        46.,  57.,  33.,  24.,  33.,  34.,  72.,  28.,  37.,  32.,  17.,\n",
       "        15.,  31.,  46., 141., 257.,  75.,  30.,  96., 110.,  32., 175.,\n",
       "        32.,  16., 271., 162.,  55., 133., 153.,  82.,  74.,  63.,  51.,\n",
       "        51.,  41.,  33.,  54.,  30.,  60., 239., 233.,  50.,  11.,  56.,\n",
       "        42.,  20.,  38.,  22.,  57.,  48.,  38.,  24.,  14.,  17.,  28.,\n",
       "        64., 104., 229., 145.,  57.,  53., 301., 424.,  78.,  49.,  93.,\n",
       "       329., 504., 504., 236.,  72.,  34.,  33.,  21., 129., 901.,  59.,\n",
       "        20.,  16.,  18.,  28.,  50., 152., 155.,  55., 109., 219., 176.,\n",
       "       105.,  21.,  40., 221., 159.,  54.,  93.,  87.,  59.,  28.,  20.,\n",
       "        25.,  34.,  73., 185., 116., 170., 333.,  48.,  30., 199., 141.,\n",
       "        12.,  17.,  43.,  43.,  14.,  10.,  10.,  21.,  27.,  15.,  15.,\n",
       "        24.,  26.,  43., 352., 300.,  42.,  16.,  15.,  24.,  62., 295.,\n",
       "       427., 115.,  44.,  87., 165., 104.,  39.,  15.,  14.,  35., 109.,\n",
       "        48.,  57.,  33.,  27.,  56., 177., 104., 212., 185., 159., 128.,\n",
       "        64.,  65., 169., 308., 196.,  37.,  49.,  41.,  68.,  80.,  51.,\n",
       "        75., 155., 177., 137.,  68.,  42.,  36.,  32.,  16.,  22.,  31.,\n",
       "       149., 210., 293., 102.,  69., 134.,  56.,  40.,  30.,  24.,  33.,\n",
       "        95.,  77., 135.,  53.,  27.,  24.,  20.,  59.,  57.,  49.,  77.,\n",
       "        25.,  18.,  54.,  35.,  42.,  40.,  66.,  27.,  20.,  26.,  18.,\n",
       "        16.,  59., 146.,  35.,  17.,  30.,  51.,  59.,  45.,  33.,  43.,\n",
       "        43.,  28.,  16.,  12.,  36., 118.,  46.,  30.,  35.,  33., 107.,\n",
       "       207., 142., 158.,  91., 125.,  59.,  48.,  31.,  42.,  43.,  61.,\n",
       "        69., 155., 161.,  23.,  13.])"
      ]
     },
     "execution_count": 20,
     "metadata": {},
     "output_type": "execute_result"
    }
   ],
   "source": [
    "sunnyside['Sunnyside-2'][sunnyside['Label'] == 0].values"
   ]
  },
  {
   "cell_type": "code",
   "execution_count": 21,
   "metadata": {},
   "outputs": [],
   "source": [
    "for i in sunnyside.index:\n",
    "    if sunnyside.loc[i, 'Label'] == 1:\n",
    "        model = ARIMA(endog=sunnyside['Sunnyside-2'][sunnyside['Label'] == 0].values, order=(5,1,1)).fit()\n",
    "        sunnyside.loc[i, 'Predictions'] = model.forecast()[0][0]\n",
    "        sunnyside.loc[i, 'Errors'] = model.forecast()[1][0]\n",
    "        sunnyside.loc[i, 'Label'] = 0"
   ]
  },
  {
   "cell_type": "code",
   "execution_count": 27,
   "metadata": {},
   "outputs": [
    {
     "data": {
      "text/plain": [
       "0      2009\n",
       "48     2010\n",
       "125    2011\n",
       "201    2012\n",
       "263    2013\n",
       "330    2014\n",
       "392    2015\n",
       "465    2016\n",
       "537    2017\n",
       "593    2018\n",
       "Name: sampleDate, dtype: int64"
      ]
     },
     "execution_count": 27,
     "metadata": {},
     "output_type": "execute_result"
    }
   ],
   "source": [
    "sunnyside['sampleDate'] = pd.to_datetime(sunnyside['sampleDate'])\n",
    "years = sunnyside['sampleDate'].dt.year\n",
    "years = years.drop_duplicates()\n",
    "years"
   ]
  },
  {
   "cell_type": "code",
   "execution_count": 28,
   "metadata": {},
   "outputs": [
    {
     "data": {
      "image/png": "[encoded data removed]",
      "text/plain": [
       "<Figure size 720x432 with 1 Axes>"
      ]
     },
     "metadata": {
      "needs_background": "light"
     },
     "output_type": "display_data"
    }
   ],
   "source": [
    "fig, ax = plt.subplots(1, 1, figsize=(10,6))\n",
    "ax.plot(sunnyside.index[:train_size], sunnyside['Sunnyside-2'][:train_size], 'b-', label='Train')\n",
    "ax.plot(sunnyside.index[train_size:train_size+test_size], \n",
    "        sunnyside['Sunnyside-2'][train_size:train_size+test_size], 'r-', label='Test')\n",
    "ax.plot(sunnyside.index[train_size:train_size+test_size], \n",
    "        sunnyside['Predictions'][train_size:train_size+test_size], 'm-', label='Predicted')\n",
    "plt.xticks(years.index, years)\n",
    "plt.legend()\n",
    "plt.show();"
   ]
  },
  {
   "cell_type": "code",
   "execution_count": null,
   "metadata": {},
   "outputs": [],
   "source": []
  },
  {
   "cell_type": "code",
   "execution_count": 29,
   "metadata": {},
   "outputs": [
    {
     "data": {
      "text/plain": [
       "79.22660541587126"
      ]
     },
     "execution_count": 29,
     "metadata": {},
     "output_type": "execute_result"
    }
   ],
   "source": [
    "rmse = np.sqrt(mean_squared_error(sunnyside['Sunnyside-2'][train_size:train_size+test_size],\n",
    "                                  sunnyside['Predictions'][train_size:train_size+test_size]))\n",
    "rmse"
   ]
  },
  {
   "cell_type": "code",
   "execution_count": null,
   "metadata": {},
   "outputs": [],
   "source": []
  }
 ],
 "metadata": {
  "kernelspec": {
   "display_name": "Python 3",
   "language": "python",
   "name": "python3"
  },
  "language_info": {
   "codemirror_mode": {
    "name": "ipython",
    "version": 3
   },
   "file_extension": ".py",
   "mimetype": "text/x-python",
   "name": "python",
   "nbconvert_exporter": "python",
   "pygments_lexer": "ipython3",
   "version": "3.5.5"
  }
 },
 "nbformat": 4,
 "nbformat_minor": 2
}
